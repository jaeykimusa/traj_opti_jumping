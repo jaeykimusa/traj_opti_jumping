{
 "cells": [
  {
   "cell_type": "code",
   "execution_count": 1,
   "id": "eb5ca6e0",
   "metadata": {},
   "outputs": [
    {
     "name": "stderr",
     "output_type": "stream",
     "text": [
      "Error:   File --f=/Users/jaeykim/Library/Jupyter/runtime/kernel-v35322141c36fb326cd0d9b7931c88015cb54ba498.json does not exist\n",
      "         at line 56 in /Users/runner/work/cmeel-urdfdom/cmeel-urdfdom/urdfdom/urdf_parser/src/model.cpp\n"
     ]
    },
    {
     "ename": "ValueError",
     "evalue": "The file --f=/Users/jaeykim/Library/Jupyter/runtime/kernel-v35322141c36fb326cd0d9b7931c88015cb54ba498.json does not contain a valid URDF model.",
     "output_type": "error",
     "traceback": [
      "\u001b[0;31m---------------------------------------------------------------------------\u001b[0m",
      "\u001b[0;31mValueError\u001b[0m                                Traceback (most recent call last)",
      "Cell \u001b[0;32mIn[1], line 8\u001b[0m\n\u001b[1;32m      5\u001b[0m \u001b[38;5;28;01mimport\u001b[39;00m\u001b[38;5;250m \u001b[39m\u001b[38;5;21;01mnumpy\u001b[39;00m\u001b[38;5;250m \u001b[39m\u001b[38;5;28;01mas\u001b[39;00m\u001b[38;5;250m \u001b[39m\u001b[38;5;21;01mnp\u001b[39;00m\n\u001b[1;32m      7\u001b[0m \u001b[38;5;28;01mfrom\u001b[39;00m\u001b[38;5;250m \u001b[39m\u001b[38;5;21;01mgo2\u001b[39;00m\u001b[38;5;21;01m.\u001b[39;00m\u001b[38;5;21;01mkinematics\u001b[39;00m\u001b[38;5;21;01m.\u001b[39;00m\u001b[38;5;21;01mkinematics\u001b[39;00m\u001b[38;5;250m \u001b[39m\u001b[38;5;28;01mimport\u001b[39;00m \u001b[38;5;241m*\u001b[39m\n\u001b[0;32m----> 8\u001b[0m \u001b[38;5;28;01mfrom\u001b[39;00m\u001b[38;5;250m \u001b[39m\u001b[38;5;21;01mgo2\u001b[39;00m\u001b[38;5;21;01m.\u001b[39;00m\u001b[38;5;21;01mdynamics\u001b[39;00m\u001b[38;5;21;01m.\u001b[39;00m\u001b[38;5;21;01mdynamics\u001b[39;00m\u001b[38;5;250m \u001b[39m\u001b[38;5;28;01mimport\u001b[39;00m \u001b[38;5;241m*\u001b[39m\n\u001b[1;32m      9\u001b[0m \u001b[38;5;28;01mimport\u001b[39;00m\u001b[38;5;250m \u001b[39m\u001b[38;5;21;01mos\u001b[39;00m\n\u001b[1;32m     11\u001b[0m \u001b[38;5;28;01mfrom\u001b[39;00m\u001b[38;5;250m \u001b[39m\u001b[38;5;21;01mpathlib\u001b[39;00m\u001b[38;5;250m \u001b[39m\u001b[38;5;28;01mimport\u001b[39;00m Path\n",
      "File \u001b[0;32m~/traj_opti_jumping/go2/dynamics/dynamics.py:3\u001b[0m\n\u001b[1;32m      1\u001b[0m \u001b[38;5;66;03m# dynamics.py\u001b[39;00m\n\u001b[1;32m      2\u001b[0m \u001b[38;5;28;01mimport\u001b[39;00m\u001b[38;5;250m \u001b[39m\u001b[38;5;21;01mpinocchio\u001b[39;00m\u001b[38;5;250m \u001b[39m\u001b[38;5;28;01mas\u001b[39;00m\u001b[38;5;250m \u001b[39m\u001b[38;5;21;01mpin\u001b[39;00m\n\u001b[0;32m----> 3\u001b[0m \u001b[38;5;28;01mfrom\u001b[39;00m\u001b[38;5;250m \u001b[39m\u001b[38;5;21;01mgo2\u001b[39;00m\u001b[38;5;21;01m.\u001b[39;00m\u001b[38;5;21;01mrobot\u001b[39;00m\u001b[38;5;21;01m.\u001b[39;00m\u001b[38;5;21;01mrobot\u001b[39;00m\u001b[38;5;250m \u001b[39m\u001b[38;5;28;01mimport\u001b[39;00m \u001b[38;5;241m*\u001b[39m\n\u001b[1;32m      4\u001b[0m \u001b[38;5;28;01mfrom\u001b[39;00m\u001b[38;5;250m \u001b[39m\u001b[38;5;21;01mgo2\u001b[39;00m\u001b[38;5;21;01m.\u001b[39;00m\u001b[38;5;21;01mutils\u001b[39;00m\u001b[38;5;21;01m.\u001b[39;00m\u001b[38;5;21;01mmath_utils\u001b[39;00m\u001b[38;5;250m \u001b[39m\u001b[38;5;28;01mimport\u001b[39;00m \u001b[38;5;241m*\u001b[39m\n\u001b[1;32m      6\u001b[0m \u001b[38;5;28;01mdef\u001b[39;00m\u001b[38;5;250m \u001b[39m\u001b[38;5;21mcomputeJointTorques\u001b[39m(model, data, q, qd, qdd):\n",
      "File \u001b[0;32m~/traj_opti_jumping/go2/robot/robot.py:19\u001b[0m\n\u001b[1;32m     12\u001b[0m urdf_filename \u001b[38;5;241m=\u001b[39m (\n\u001b[1;32m     13\u001b[0m     pin_model_dir \u001b[38;5;241m/\u001b[39m \u001b[38;5;124m\"\u001b[39m\u001b[38;5;124mmodel/go2/go2.urdf\u001b[39m\u001b[38;5;124m\"\u001b[39m\n\u001b[1;32m     14\u001b[0m     \u001b[38;5;28;01mif\u001b[39;00m \u001b[38;5;28mlen\u001b[39m(argv) \u001b[38;5;241m<\u001b[39m \u001b[38;5;241m2\u001b[39m\n\u001b[1;32m     15\u001b[0m     \u001b[38;5;28;01melse\u001b[39;00m argv[\u001b[38;5;241m1\u001b[39m]\n\u001b[1;32m     16\u001b[0m )\n\u001b[1;32m     18\u001b[0m \u001b[38;5;66;03m# Load the urdf model\u001b[39;00m\n\u001b[0;32m---> 19\u001b[0m model \u001b[38;5;241m=\u001b[39m \u001b[43mpin\u001b[49m\u001b[38;5;241;43m.\u001b[39;49m\u001b[43mbuildModelFromUrdf\u001b[49m\u001b[43m(\u001b[49m\u001b[43murdf_filename\u001b[49m\u001b[43m,\u001b[49m\u001b[43m \u001b[49m\u001b[43mpin\u001b[49m\u001b[38;5;241;43m.\u001b[39;49m\u001b[43mJointModelFreeFlyer\u001b[49m\u001b[43m(\u001b[49m\u001b[43m)\u001b[49m\u001b[43m)\u001b[49m\n\u001b[1;32m     20\u001b[0m geom_model \u001b[38;5;241m=\u001b[39m pin\u001b[38;5;241m.\u001b[39mbuildGeomFromUrdf(model, urdf_filename, pin\u001b[38;5;241m.\u001b[39mGeometryType\u001b[38;5;241m.\u001b[39mCOLLISION)\n\u001b[1;32m     21\u001b[0m robot \u001b[38;5;241m=\u001b[39m pin\u001b[38;5;241m.\u001b[39mRobotWrapper(model)\n",
      "\u001b[0;31mValueError\u001b[0m: The file --f=/Users/jaeykim/Library/Jupyter/runtime/kernel-v35322141c36fb326cd0d9b7931c88015cb54ba498.json does not contain a valid URDF model."
     ]
    }
   ],
   "source": [
    "from pathlib import Path\n",
    "from sys import argv\n",
    "\n",
    "import pinocchio\n",
    "import numpy as np\n",
    "\n",
    "from go2.kinematics.kinematics import *\n",
    "from go2.dynamics.dynamics import *\n",
    "import os\n",
    " \n",
    "from pathlib import Path\n",
    "import pinocchio\n",
    "\n",
    "# Adjust this to your actual model directory\n",
    "pinocchio_model_dir = Path(os.getcwd())\n",
    "urdf_filename = pinocchio_model_dir / \"assets/models/go2/go2.urdf\"\n",
    "\n",
    "# Check the path exists before loading\n",
    "if not urdf_filename.exists():\n",
    "    raise FileNotFoundError(f\"URDF file not found: {urdf_filename}\")\n",
    "\n",
    "# Load the URDF\n",
    "model = pinocchio.buildModelFromUrdf(str(urdf_filename), pinocchio.JointModelFreeFlyer())\n",
    "robot = pinocchio.RobotWrapper(model)\n",
    "data = model.createData()\n"
   ]
  },
  {
   "cell_type": "code",
   "execution_count": 19,
   "id": "d9c858fd",
   "metadata": {},
   "outputs": [
    {
     "name": "stdout",
     "output_type": "stream",
     "text": [
      "Frame id from name:  10\n",
      "Name from ID:  FL_EE\n"
     ]
    }
   ],
   "source": [
    "# ee frames\n",
    "FL_EE_id = model.getFrameId(\"FL_EE\")\n",
    "\n",
    "print(\"Frame id from name: \", FL_EE_id)\n",
    "\n",
    "\n",
    "print(\"Name from ID: \", model.frames[FL_EE_id].name)\n"
   ]
  },
  {
   "cell_type": "code",
   "execution_count": 21,
   "id": "ed4a9188",
   "metadata": {},
   "outputs": [
    {
     "ename": "NameError",
     "evalue": "name 'getDefaultStandState' is not defined",
     "output_type": "error",
     "traceback": [
      "\u001b[0;31m---------------------------------------------------------------------------\u001b[0m",
      "\u001b[0;31mNameError\u001b[0m                                 Traceback (most recent call last)",
      "Cell \u001b[0;32mIn[21], line 1\u001b[0m\n\u001b[0;32m----> 1\u001b[0m q \u001b[38;5;241m=\u001b[39m \u001b[43mgetDefaultStandState\u001b[49m(model, data)\n\u001b[1;32m      2\u001b[0m pinocchio\u001b[38;5;241m.\u001b[39mframesForwardKinematics(model, data, q)\n\u001b[1;32m      4\u001b[0m v \u001b[38;5;241m=\u001b[39m np\u001b[38;5;241m.\u001b[39mzeros(model\u001b[38;5;241m.\u001b[39mnv)\n",
      "\u001b[0;31mNameError\u001b[0m: name 'getDefaultStandState' is not defined"
     ]
    }
   ],
   "source": [
    "\n",
    "q = getDefaultStandState(model, data)\n",
    "pinocchio.framesForwardKinematics(model, data, q)\n",
    "\n",
    "v = np.zeros(model.nv)\n",
    "a = np.zeros(model.nv)\n",
    "\n",
    "g_grav = pinocchio.rnea(model, data, q, v, a)\n",
    "g_bl = g_grav[:6]\n",
    "g_j = g_grav[6:]\n",
    "\n",
    "feet_names = [\"FL\", \"FR\", \"RL\", \"RR\"]\n",
    "feet_ids = [model.getFrameId(f\"{leg}_EE\") for leg in feet_names]\n",
    "bl_id = model.getFrameId(\"base_link\")\n",
    "ncontacts = len(feet_names)\n",
    "\n",
    "Js__feet_q = [pinocchio.computeFrameJacobian(model, data, q, fid, pinocchio.LOCAL_WORLD_ALIGNED) for fid in feet_ids]\n"
   ]
  }
 ],
 "metadata": {
  "kernelspec": {
   "display_name": "go2_py",
   "language": "python",
   "name": "python3"
  },
  "language_info": {
   "codemirror_mode": {
    "name": "ipython",
    "version": 3
   },
   "file_extension": ".py",
   "mimetype": "text/x-python",
   "name": "python",
   "nbconvert_exporter": "python",
   "pygments_lexer": "ipython3",
   "version": "3.10.18"
  }
 },
 "nbformat": 4,
 "nbformat_minor": 5
}
