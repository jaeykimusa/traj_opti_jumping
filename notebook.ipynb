{
 "cells": [
  {
   "cell_type": "code",
   "execution_count": 18,
   "id": "eb5ca6e0",
   "metadata": {},
   "outputs": [],
   "source": [
    "from pathlib import Path\n",
    "from sys import argv\n",
    "\n",
    "import pinocchio\n",
    "import numpy as np\n",
    "\n",
    "from kinematics import *\n",
    "from dynamics import *\n",
    "import os\n",
    " \n",
    "from pathlib import Path\n",
    "import pinocchio\n",
    "\n",
    "# Adjust this to your actual model directory\n",
    "pinocchio_model_dir = Path(os.getcwd())\n",
    "urdf_filename = pinocchio_model_dir / \"assets/models/go2/go2.urdf\"\n",
    "\n",
    "# Check the path exists before loading\n",
    "if not urdf_filename.exists():\n",
    "    raise FileNotFoundError(f\"URDF file not found: {urdf_filename}\")\n",
    "\n",
    "# Load the URDF\n",
    "model = pinocchio.buildModelFromUrdf(str(urdf_filename), pinocchio.JointModelFreeFlyer())\n",
    "robot = pinocchio.RobotWrapper(model)\n",
    "data = model.createData()\n"
   ]
  },
  {
   "cell_type": "code",
   "execution_count": 19,
   "id": "d9c858fd",
   "metadata": {},
   "outputs": [
    {
     "name": "stdout",
     "output_type": "stream",
     "text": [
      "Frame id from name:  10\n",
      "Name from ID:  FL_EE\n"
     ]
    }
   ],
   "source": [
    "# ee frames\n",
    "FL_EE_id = model.getFrameId(\"FL_EE\")\n",
    "\n",
    "print(\"Frame id from name: \", FL_EE_id)\n",
    "\n",
    "\n",
    "print(\"Name from ID: \", model.frames[FL_EE_id].name)\n"
   ]
  },
  {
   "cell_type": "code",
   "execution_count": 21,
   "id": "ed4a9188",
   "metadata": {},
   "outputs": [
    {
     "ename": "NameError",
     "evalue": "name 'getDefaultStandState' is not defined",
     "output_type": "error",
     "traceback": [
      "\u001b[0;31m---------------------------------------------------------------------------\u001b[0m",
      "\u001b[0;31mNameError\u001b[0m                                 Traceback (most recent call last)",
      "Cell \u001b[0;32mIn[21], line 1\u001b[0m\n\u001b[0;32m----> 1\u001b[0m q \u001b[38;5;241m=\u001b[39m \u001b[43mgetDefaultStandState\u001b[49m(model, data)\n\u001b[1;32m      2\u001b[0m pinocchio\u001b[38;5;241m.\u001b[39mframesForwardKinematics(model, data, q)\n\u001b[1;32m      4\u001b[0m v \u001b[38;5;241m=\u001b[39m np\u001b[38;5;241m.\u001b[39mzeros(model\u001b[38;5;241m.\u001b[39mnv)\n",
      "\u001b[0;31mNameError\u001b[0m: name 'getDefaultStandState' is not defined"
     ]
    }
   ],
   "source": [
    "\n",
    "q = getDefaultStandState(model, data)\n",
    "pinocchio.framesForwardKinematics(model, data, q)\n",
    "\n",
    "v = np.zeros(model.nv)\n",
    "a = np.zeros(model.nv)\n",
    "\n",
    "g_grav = pinocchio.rnea(model, data, q, v, a)\n",
    "g_bl = g_grav[:6]\n",
    "g_j = g_grav[6:]\n",
    "\n",
    "feet_names = [\"FL\", \"FR\", \"RL\", \"RR\"]\n",
    "feet_ids = [model.getFrameId(f\"{leg}_EE\") for leg in feet_names]\n",
    "bl_id = model.getFrameId(\"base_link\")\n",
    "ncontacts = len(feet_names)\n",
    "\n",
    "Js__feet_q = [pinocchio.computeFrameJacobian(model, data, q, fid, pinocchio.LOCAL_WORLD_ALIGNED) for fid in feet_ids]\n"
   ]
  }
 ],
 "metadata": {
  "kernelspec": {
   "display_name": "go2_py",
   "language": "python",
   "name": "python3"
  },
  "language_info": {
   "codemirror_mode": {
    "name": "ipython",
    "version": 3
   },
   "file_extension": ".py",
   "mimetype": "text/x-python",
   "name": "python",
   "nbconvert_exporter": "python",
   "pygments_lexer": "ipython3",
   "version": "3.10.18"
  }
 },
 "nbformat": 4,
 "nbformat_minor": 5
}
